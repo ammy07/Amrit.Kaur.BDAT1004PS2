{
 "cells": [
  {
   "cell_type": "markdown",
   "metadata": {},
   "source": [
    "# Data Programming "
   ]
  },
  {
   "cell_type": "markdown",
   "metadata": {},
   "source": [
    "## Problem Set 2"
   ]
  },
  {
   "cell_type": "markdown",
   "metadata": {},
   "source": [
    "## Amrit Kaur"
   ]
  },
  {
   "cell_type": "markdown",
   "metadata": {},
   "source": [
    "### 1. What value is displayed when the last expression (a) is evaluated? Explain youranswer by indicating what happens in every executed statement.\n",
    "\n"
   ]
  },
  {
   "cell_type": "code",
   "execution_count": 4,
   "metadata": {},
   "outputs": [
    {
     "data": {
      "text/plain": [
       "6"
      ]
     },
     "execution_count": 4,
     "metadata": {},
     "output_type": "execute_result"
    }
   ],
   "source": [
    "a = 0  \n",
    "def b():  \n",
    "    global a                              #Global variable a will be used  \n",
    "    a = c(a)                                  #function call c(0)\n",
    "def c(a):  \n",
    "    return a + 2         \n",
    "b()                                        #will return a=0+2= 2*  \n",
    "b()                                        # As value of a is changed to 2, it will return a=2+2=4*  \n",
    "b()                                        #*a=4+2=6*  \n",
    "a                                          #a=6*"
   ]
  },
  {
   "cell_type": "markdown",
   "metadata": {},
   "source": [
    "### 2.Function fileLength(), given to you, takes the name of a file as input and returns the length of the file:\n",
    "fileLength('idterm.py')  \n",
    "Traceback (most recent call last):  \n",
    "File \"<pyshell#34>\", line 1, in <module>  \n",
    " fileLength('idterm.py')  \n",
    "File \"/Users/me/midterm.py\", line 3, in fileLength  \n",
    " infile = open(filename)  \n",
    "FileNotFoundError: [Errno 2] No such file or directory:  \n",
    "'idterm.py'  \n",
    "\n",
    "**As shown , if the file cannot be found by the interpreter or if it cannot be read as a text file, an exception will be raised. Modify function fileLength() so that a friendly message is printed instead:**\n"
   ]
  },
  {
   "cell_type": "code",
   "execution_count": 19,
   "metadata": {},
   "outputs": [
    {
     "name": "stdout",
     "output_type": "stream",
     "text": [
      "File idterm.py not found.\n"
     ]
    }
   ],
   "source": [
    "def fileLength(file_name):\n",
    "    try:\n",
    "        file = open(file_name)\n",
    "        contents = file.read()\n",
    "        file.close()\n",
    "        print(len(contents))   \n",
    "       \n",
    "    except FileNotFoundError:\n",
    "             print(\"File {} not found.\".format(file_name))   #message to  show if file not found\n",
    "        \n",
    "\n",
    "fileLength('idterm.py')\n"
   ]
  },
  {
   "cell_type": "markdown",
   "metadata": {},
   "source": [
    "### 3.Write a class named Marsupial that can be used as shown below:\n",
    " m = Marsupial()  \n",
    " m.put_in_pouch('doll')  \n",
    " m.put_in_pouch('firetruck')  \n",
    " m.put_in_pouch('kitten')  \n",
    " m.pouch_contents()  \n",
    "['doll', 'firetruck', 'kitten']  \n",
    "**Now write a class named Kangaroo as a subclass of Marsupial that inherits all the  \n",
    "attributes of Marsupial and also:  \n",
    "a. extends the Marsupial __init__ constructor to take, as input, the  \n",
    "coordinates x and y of the Kangaroo object,  \n",
    "b. supports method jump that takes number values dx and dy as input and  \n",
    "moves the kangaroo by dx units along the x-axis and by dy units along the yaxis, and  \n",
    "c. overloads the __str__ operator so it behaves as shown below.**      \n",
    " k = Kangaroo(0,0)  \n",
    " print(k)  \n",
    "I am a Kangaroo located at coordinates (0,0)  \n",
    " k.put_in_pouch('doll')  \n",
    " k.put_in_pouch('firetruck')  \n",
    " k.put_in_pouch('kitten')  \n",
    " k.pouch_contents()  \n",
    "['doll', 'firetruck', 'kitten']  \n",
    " k.jump(1,0)  \n",
    " k.jump(1,0)  \n",
    " k.jump(1,0)   \n",
    " print(k)  \n",
    "I am a Kangaroo located at coordinates (3,0)  "
   ]
  },
  {
   "cell_type": "code",
   "execution_count": 45,
   "metadata": {},
   "outputs": [
    {
     "name": "stdout",
     "output_type": "stream",
     "text": [
      "I am a Kangaroo located at coordinates (0,0)\n",
      "['doll', 'firetruck', 'kitten']\n",
      "I am a Kangaroo located at coordinates (3,0)\n"
     ]
    }
   ],
   "source": [
    "class Marsupial():  #class to show list contents\n",
    "    def __init__(self):\n",
    "          self.toys=[]\n",
    "    \n",
    "    def put_in_pouch(self,toy):\n",
    "            self.toys.append(toy)\n",
    "            \n",
    "    def pouch_contents(self):\n",
    "         print(self.toys)\n",
    "    \n",
    "\n",
    "class Kangaroo(Marsupial):                                       #inherits Marsupial class \n",
    "    def __init__(self,x,y):   \n",
    "         Marsupial.__init__(self)\n",
    "         self.xcord=x\n",
    "         self.ycord=y\n",
    "    def jump(self,dx,dy):                                        #jump to coordinates\n",
    "        self.xcord += dx\n",
    "        self.ycord += dy\n",
    "    def __str__(self):    \n",
    "        return 'I am a Kangaroo located at coordinates ({},{})'.format(self.xcord,self.ycord)\n",
    "    \n",
    "k = Kangaroo(0,0)                     \n",
    "print(k)\n",
    "\n",
    "k.put_in_pouch('doll')\n",
    "k.put_in_pouch('firetruck') \n",
    "k.put_in_pouch('kitten')\n",
    "k.pouch_contents()                        ## function calls\n",
    "\n",
    "k.jump(1,0)\n",
    "k.jump(1,0)\n",
    "k.jump(1,0)\n",
    "print(k)    \n",
    "        \n",
    "        "
   ]
  },
  {
   "cell_type": "markdown",
   "metadata": {},
   "source": [
    "### 4.Implement a new GUI class App that combines user-defined tkinter widget classes Calculator and Mortgage"
   ]
  },
  {
   "cell_type": "code",
   "execution_count": 63,
   "metadata": {},
   "outputs": [],
   "source": [
    "#output in word file attached in blackboard\n",
    "from tkinter import Tk,Label,LEFT,Button,Entry,Frame,RIGHT,GROOVE\n",
    "root=Tk()\n",
    "root['bg']='white'\n",
    "\n",
    "class Mortrage():          #Mortrage GUI\n",
    "    labl=Label(root,bg='white',text='Loan Amount:')\n",
    "    labl.grid(row=1 , column=0)\n",
    "    labl=Label(root, bg='white',text='Interest Amount:')\n",
    "    labl.grid(row=2 , column=0)\n",
    "    labl=Label(root, bg='white',text='Loan Terms:')\n",
    "    labl.grid(row=3 , column=0)\n",
    "    calculate=Button(root, bg='white',text='Compute Mortrage:')\n",
    "    calculate.grid(row=4 , column=0)\n",
    "    for i in range(0,4):\n",
    "        enter=Entry(root)\n",
    "        enter.grid(row=i+1 , column=1)\n",
    "\n",
    "\n",
    "    entry = Entry(root,bg='grey',relief='raised')\n",
    "    entry.grid(row=0,column=3, columnspan=50,ipadx=28,ipady=8)     #Calculator GUI\n",
    "   \n",
    "    MC=Button(root,bg='white', padx=15,text='MC')\n",
    "    MC.grid(row=1,column=3)\n",
    "    Mp=Button(root,bg='white', padx=15,text='M+')\n",
    "    Mp.grid(row=1,column=4)\n",
    "    Mm=Button(root,bg='white', padx=15,text='M-')\n",
    "    Mm.grid(row=1,column=5)\n",
    "    Mr=Button(root,bg='white', padx=15,text='MR')\n",
    "    Mr.grid(row=1,column=6) \n",
    "    c=Button(root,bg='white',padx=20,text='C')\n",
    "    c.grid(row=2,column=3)\n",
    "    r=Button(root,bg='white', padx=20,text='√')\n",
    "    r.grid(row=2,column=4)\n",
    "    s=Button(root,bg='white',padx=15,text='x² ')\n",
    "    s.grid(row=2,column=5)\n",
    "    Add=Button(root,bg='white',padx=20,text='+')\n",
    "    Add.grid(row=2,column=6)\n",
    "    b_7=Button(root,bg='white', padx=20,text='7')\n",
    "    b_7.grid(row=3,column=3)\n",
    "    b_8=Button(root,bg='white', padx=20,text='8')\n",
    "    b_8.grid(row=3,column=4)\n",
    "    b_9=Button(root,bg='white', padx=20,text='9')\n",
    "    b_9.grid(row=3,column=5)\n",
    "    mi=Button(root,bg='white', padx=22,text='-')\n",
    "    mi.grid(row=3,column=6)\n",
    "    b_4=Button(root,bg='white', padx=20,text='4')\n",
    "    b_4.grid(row=4,column=3)\n",
    "    b_5=Button(root,bg='white', padx=20,text='5')\n",
    "    b_5.grid(row=4,column=4)\n",
    "    b_6=Button(root,bg='white', padx=20,text='6')\n",
    "    b_6.grid(row=4,column=5)\n",
    "    mul=Button(root,bg='white', padx=20,text='*')\n",
    "    mul.grid(row=4,column=6)\n",
    "    b_1=Button(root,bg='white', padx=20,text='1')\n",
    "    b_1.grid(row=5,column=3)\n",
    "    b_2=Button(root,bg='white', padx=20,text='2')\n",
    "    b_2.grid(row=5,column=4)\n",
    "    b_3=Button(root,bg='white', padx=20,text='3')\n",
    "    b_3.grid(row=5,column=5) \n",
    "    div=Button(root,bg='white', padx=20,text='/')\n",
    "    div.grid(row=5,column=6)\n",
    "    b_0=Button(root,bg='white', padx=20,text='0')\n",
    "    b_0.grid(row=6,column=3)\n",
    "    dot=Button(root,bg='white', padx=22,text='.')\n",
    "    dot.grid(row=6,column=4)\n",
    "    pm=Button(root,bg='white', padx=15,text='+-')\n",
    "    pm.grid(row=6,column=5)\n",
    "    eq=Button(root,bg='white', padx=17,text='=')\n",
    "    eq.grid(row=6,column=6)\n",
    "   \n",
    "    \n",
    "    \n",
    "root.mainloop()"
   ]
  },
  {
   "cell_type": "markdown",
   "metadata": {},
   "source": [
    "### 5.Write function collatz() that takes a positive integer x as input and prints the Collatz sequence starting at x. A Collatz sequence is obtained by repeatedly applying this rule to the previous number x in the sequence:\n",
    "x = {𝑥/2 𝑖𝑓 𝑥 𝑖𝑠 𝑒𝑣𝑒𝑛  \n",
    "x=  {3𝑥 + 1 𝑖𝑓 𝑥 𝑖𝑠 𝑜𝑑𝑑  \n",
    "\n",
    "### Your function should stop when the sequence gets to number 1. Your implementation must be recursive, without any loops."
   ]
  },
  {
   "cell_type": "code",
   "execution_count": 78,
   "metadata": {},
   "outputs": [
    {
     "name": "stdout",
     "output_type": "stream",
     "text": [
      "10\n",
      "5\n",
      "16\n",
      "8\n",
      "4\n",
      "2\n",
      "1\n"
     ]
    }
   ],
   "source": [
    "def Collatz(x):\n",
    "    print(x)\n",
    "    if x==1:                                   #function stop at x= 1\n",
    "            return x\n",
    "    elif x%2==0:\n",
    "        x=int(x/2)\n",
    "    else: x=int(3*x+1)\n",
    "    Collatz(x)        \n",
    "  \n",
    "Collatz(10)\n",
    "        \n",
    "    "
   ]
  },
  {
   "cell_type": "markdown",
   "metadata": {},
   "source": [
    "### 6.Write a recursive method binary() that takes a non-negative integer n and prints the binary representation of integer n."
   ]
  },
  {
   "cell_type": "code",
   "execution_count": 33,
   "metadata": {},
   "outputs": [
    {
     "name": "stdout",
     "output_type": "stream",
     "text": [
      "0\n",
      "\n",
      "1\n",
      "\n",
      "11\n",
      "\n",
      "1001\n",
      "Enter positive number\n"
     ]
    }
   ],
   "source": [
    "def binary(n):\n",
    "    if n>1:\n",
    "        binary(n//2)   #recursive call floor value of n/2\n",
    "    elif n<0:\n",
    "        print(\"\\nEnter positive number\") #error mesage if user enters negative number\n",
    "        return\n",
    "    print(n%2,end=\"\")     \n",
    "binary(0)  \n",
    "print(\"\\n\")\n",
    "binary(1)\n",
    "print(\"\\n\")  \n",
    "binary(3) \n",
    "print(\"\\n\")\n",
    "binary(9) \n",
    "binary(-1)"
   ]
  },
  {
   "cell_type": "markdown",
   "metadata": {},
   "source": [
    "### 7.Implement a class named HeadingParser that can be used to parse an HTML document, and retrieve and print all the headings in the document. You should implement your class as a subclass of HTMLParser, defined in Standard Library module html.parser. When fed a string containing HTML code, your class should print the headings, one per line and in the order in which they appear in the document. Each heading should be indented as follows: an h1 heading should have indentation 0, and h2 heading should have indentation 1, etc. Test your implementation using w3c.html.\n",
    "infile = open('w3c.html')  \n",
    "content = infile.read()  \n",
    "infile.close()  \n",
    "hp = HeadingParser()  \n",
    "hp.feed(content)  \n",
    "W3C Mission  \n",
    "Principles  \n"
   ]
  },
  {
   "cell_type": "code",
   "execution_count": 34,
   "metadata": {},
   "outputs": [
    {
     "name": "stdout",
     "output_type": "stream",
     "text": [
      "W3C Mission\n",
      "\n",
      "\n",
      " Principles \n",
      "  \n",
      " \n"
     ]
    }
   ],
   "source": [
    "from html.parser import HTMLParser\n",
    "class HeadingParser(HTMLParser):\n",
    "    def __init(self):\n",
    "        HTMLParser.__init__(self)\n",
    "        self.indent = 0\n",
    "    def handle_starttag(self,tag,attrs):\n",
    "         self.i=tag\n",
    "         self.indent = 0\n",
    "\n",
    "    def handle_data(self,data):\n",
    "        if self.i==\"h1\":\n",
    "            print('{}{}'.format(self.indent*' ',data))\n",
    "        elif self.i==\"h2\":\n",
    "             self.indent+=1                                    #increase indent if h2\n",
    "             print('{}{} '.format(self.indent*' ', data))\n",
    "            \n",
    "        elif self.i==\"h3\":\n",
    "            self.indent=2                                      #increase indent if h2\n",
    "            print('{}'.format(self.indent*' ',data))\n",
    "            \n",
    "infile = open('w3c.html')\n",
    "content = infile.read()\n",
    "infile.close()\n",
    "hp = HeadingParser()\n",
    "hp.feed(content)                "
   ]
  },
  {
   "cell_type": "markdown",
   "metadata": {},
   "source": [
    "### 8.Implement recursive function webdir() that takes as input: a URL (as a string) and non-negative integers depth and indent. Your function should visit every web page reachable from the starting URL web page in depth clicks or less, and print each web page's URL. As shown below, indentation, specified by indent, should be used to indicate the depth of a URL.  \n",
    "\n",
    "webdir('http://reed.cs.depaul.edu/lperkovic/csc242/test1.html', 2, 0)  \n",
    "http://reed.cs.depaul.edu/lperkovic/csc242/test1.html  \n",
    " http://reed.cs.depaul.edu/lperkovic/csc242/test2.html  \n",
    " http://reed.cs.depaul.edu/lperkovic/csc242/test4.html  \n",
    " http://reed.cs.depaul.edu/lperkovic/csc242/test3.html  \n",
    " http://reed.cs.depaul.edu/lperkovic/csc242/test4.html  \n"
   ]
  },
  {
   "cell_type": "code",
   "execution_count": 35,
   "metadata": {},
   "outputs": [],
   "source": [
    "#Took help from ppt and other resources, could not get output, please provide solution if possible\n",
    "from urllib.request import Request, urlopen\n",
    "from urllib.parse import urljoin\n",
    "from html.parser import HTMLParser\n",
    "\n",
    "class Collector(HTMLParser):\n",
    "    #'collects hyperlink URLs into a list'\n",
    "\n",
    "    def __init__(self, url):\n",
    "     #   'initializes parser, the url, and a list'\n",
    "        HTMLParser.__init__(self)\n",
    "        self.url = url\n",
    "        self.links = []\n",
    "\n",
    "def handle_starttag(self, tag, attrs):\n",
    "      #  'collects hyperlink URLs in their absolute format'\n",
    "        if tag == 'a':\n",
    "            for attr in attrs:\n",
    "                if attr[0] == 'href':\n",
    "                    # construct absolute URL\n",
    "                    absolute = urljoin(self.url, attr[1])\n",
    "                    if absolute[:4] == 'http': # collect HTTP URLs\n",
    "                        self.links.append(absolute)\n",
    "                        \n",
    "def getLinks(self):\n",
    "       # 'returns hyperlinks URLs in their absolute format'\n",
    "        return self.links\n",
    "    \n",
    "def analyze(url):\n",
    "    rqst=Request(url,headers={'User Agent': 'XYZ/3.0'})\n",
    "    wbpage=urlopen(rqst, timeout=10).read().decode()\n",
    "    collector=Collector(url)\n",
    "    collector.feed(wbpage)\n",
    "    urls=collector.getLinks()\n",
    "    return urls\n",
    "\n",
    "def webdir(url, depth,indent):\n",
    "    if(depth==-1):\n",
    "        return\n",
    "    try:\n",
    "        pages=analyze(url)\n",
    "    except:\n",
    "            return\n",
    "    for x in range(0,indent):\n",
    "        print(\"\\t\",end=\" \")\n",
    "        \n",
    "    print(url)\n",
    "    \n",
    "    for links in pages:\n",
    "        \n",
    "        webdir(links,depth-1, indent+1)\n",
    "        \n",
    "url = 'http://reed.cs.depaul.edu/lperkovic/csc242/test1.html'\n",
    "webdir(url,2,0)\n",
    "\n"
   ]
  },
  {
   "cell_type": "markdown",
   "metadata": {},
   "source": [
    "### 9.Write SQL queries on the below database table that return: "
   ]
  },
  {
   "cell_type": "code",
   "execution_count": 38,
   "metadata": {},
   "outputs": [],
   "source": [
    "%load_ext sql"
   ]
  },
  {
   "cell_type": "code",
   "execution_count": 39,
   "metadata": {},
   "outputs": [
    {
     "data": {
      "text/plain": [
       "'Connected: @None'"
      ]
     },
     "execution_count": 39,
     "metadata": {},
     "output_type": "execute_result"
    }
   ],
   "source": [
    "%sql sqlite://"
   ]
  },
  {
   "cell_type": "code",
   "execution_count": 40,
   "metadata": {},
   "outputs": [
    {
     "name": "stdout",
     "output_type": "stream",
     "text": [
      " * sqlite://\n",
      "Done.\n",
      "1 rows affected.\n",
      "1 rows affected.\n",
      "1 rows affected.\n",
      "1 rows affected.\n",
      "1 rows affected.\n",
      "1 rows affected.\n",
      "1 rows affected.\n",
      "1 rows affected.\n",
      "1 rows affected.\n",
      "1 rows affected.\n",
      "1 rows affected.\n",
      "1 rows affected.\n"
     ]
    },
    {
     "data": {
      "text/plain": [
       "[]"
      ]
     },
     "execution_count": 40,
     "metadata": {},
     "output_type": "execute_result"
    }
   ],
   "source": [
    "%%sql CREATE TABLE WEATHER (CITY VARCHAR(20), COUNTRY VARCHAR(20),SEASON VARCHAR(20),TEMPERATURE_C FLOAT,RAINFALL FLOAT);\n",
    "INSERT INTO WEATHER VALUES ('Mumbai', 'India','Winter', 24.8,5.9);\n",
    "INSERT INTO WEATHER VALUES ('Mumbai','India','Spring', 28.4,16.2);\n",
    "INSERT INTO WEATHER VALUES ('Mumbai','India','Summer', 27.9,1549.4);\n",
    "INSERT INTO WEATHER VALUES ('Mumbai','India', \"Fall\", 27.6,346.0);   \n",
    "INSERT INTO WEATHER VALUES ('London','United Kingdom', 'Winter',4.2,207.7);\n",
    "INSERT INTO WEATHER VALUES ('London','United Kingdom', \"Spring\", 8.3,169.6);                           \n",
    "INSERT INTO WEATHER VALUES ('London','United Kingdom', \"Summer\",15.7,157.0);                          \n",
    "INSERT INTO WEATHER VALUES ('London','United Kingdom', \"Fall\",10.4,218.5);\n",
    "INSERT INTO WEATHER VALUES ('Cairo', 'Egypt', \"Winter\", 13.6, 16.5);\n",
    "INSERT INTO WEATHER VALUES ('Cairo', 'Egypt', 'Spring',20.7,6.5);    \n",
    "INSERT INTO WEATHER VALUES ('Cairo', 'Egypt', 'Summer',27.7,0.1);\n",
    "INSERT INTO WEATHER VALUES ('Cairo','Egypt','Fall',22.2,4.5);                           "
   ]
  },
  {
   "cell_type": "code",
   "execution_count": 13,
   "metadata": {},
   "outputs": [
    {
     "name": "stdout",
     "output_type": "stream",
     "text": [
      " * sqlite://\n",
      "Done.\n"
     ]
    },
    {
     "data": {
      "text/html": [
       "<table>\n",
       "    <tr>\n",
       "        <th>CITY</th>\n",
       "        <th>COUNTRY</th>\n",
       "        <th>SEASON</th>\n",
       "        <th>TEMPERATURE_C</th>\n",
       "        <th>RAINFALL</th>\n",
       "    </tr>\n",
       "    <tr>\n",
       "        <td>Mumbai</td>\n",
       "        <td>India</td>\n",
       "        <td>Winter</td>\n",
       "        <td>24.8</td>\n",
       "        <td>5.9</td>\n",
       "    </tr>\n",
       "    <tr>\n",
       "        <td>Mumbai</td>\n",
       "        <td>India</td>\n",
       "        <td>Spring</td>\n",
       "        <td>28.4</td>\n",
       "        <td>16.2</td>\n",
       "    </tr>\n",
       "    <tr>\n",
       "        <td>Mumbai</td>\n",
       "        <td>India</td>\n",
       "        <td>Summer</td>\n",
       "        <td>27.9</td>\n",
       "        <td>1549.4</td>\n",
       "    </tr>\n",
       "    <tr>\n",
       "        <td>Mumbai</td>\n",
       "        <td>India</td>\n",
       "        <td>Fall</td>\n",
       "        <td>27.6</td>\n",
       "        <td>346.0</td>\n",
       "    </tr>\n",
       "    <tr>\n",
       "        <td>London</td>\n",
       "        <td>United Kingdom</td>\n",
       "        <td>Winter</td>\n",
       "        <td>4.2</td>\n",
       "        <td>207.7</td>\n",
       "    </tr>\n",
       "    <tr>\n",
       "        <td>London</td>\n",
       "        <td>United Kingdom</td>\n",
       "        <td>Spring</td>\n",
       "        <td>8.3</td>\n",
       "        <td>169.6</td>\n",
       "    </tr>\n",
       "    <tr>\n",
       "        <td>London</td>\n",
       "        <td>United Kingdom</td>\n",
       "        <td>Summer</td>\n",
       "        <td>15.7</td>\n",
       "        <td>157.0</td>\n",
       "    </tr>\n",
       "    <tr>\n",
       "        <td>London</td>\n",
       "        <td>United Kingdom</td>\n",
       "        <td>Fall</td>\n",
       "        <td>10.4</td>\n",
       "        <td>218.5</td>\n",
       "    </tr>\n",
       "    <tr>\n",
       "        <td>Cairo</td>\n",
       "        <td>Egypt</td>\n",
       "        <td>Winter</td>\n",
       "        <td>13.6</td>\n",
       "        <td>16.5</td>\n",
       "    </tr>\n",
       "    <tr>\n",
       "        <td>Cairo</td>\n",
       "        <td>Egypt</td>\n",
       "        <td>Spring</td>\n",
       "        <td>20.7</td>\n",
       "        <td>6.5</td>\n",
       "    </tr>\n",
       "    <tr>\n",
       "        <td>Cairo</td>\n",
       "        <td>Egypt</td>\n",
       "        <td>Summer</td>\n",
       "        <td>27.7</td>\n",
       "        <td>0.1</td>\n",
       "    </tr>\n",
       "    <tr>\n",
       "        <td>Cairo</td>\n",
       "        <td>Egypt</td>\n",
       "        <td>Fall</td>\n",
       "        <td>22.2</td>\n",
       "        <td>4.5</td>\n",
       "    </tr>\n",
       "</table>"
      ],
      "text/plain": [
       "[('Mumbai', 'India', 'Winter', 24.8, 5.9),\n",
       " ('Mumbai', 'India', 'Spring', 28.4, 16.2),\n",
       " ('Mumbai', 'India', 'Summer', 27.9, 1549.4),\n",
       " ('Mumbai', 'India', 'Fall', 27.6, 346.0),\n",
       " ('London', 'United Kingdom', 'Winter', 4.2, 207.7),\n",
       " ('London', 'United Kingdom', 'Spring', 8.3, 169.6),\n",
       " ('London', 'United Kingdom', 'Summer', 15.7, 157.0),\n",
       " ('London', 'United Kingdom', 'Fall', 10.4, 218.5),\n",
       " ('Cairo', 'Egypt', 'Winter', 13.6, 16.5),\n",
       " ('Cairo', 'Egypt', 'Spring', 20.7, 6.5),\n",
       " ('Cairo', 'Egypt', 'Summer', 27.7, 0.1),\n",
       " ('Cairo', 'Egypt', 'Fall', 22.2, 4.5)]"
      ]
     },
     "execution_count": 13,
     "metadata": {},
     "output_type": "execute_result"
    }
   ],
   "source": [
    "%sql SELECt * FROM WEATHER"
   ]
  },
  {
   "cell_type": "markdown",
   "metadata": {},
   "source": [
    "### a) All the temperature data."
   ]
  },
  {
   "cell_type": "code",
   "execution_count": 14,
   "metadata": {},
   "outputs": [
    {
     "name": "stdout",
     "output_type": "stream",
     "text": [
      " * sqlite://\n",
      "Done.\n"
     ]
    },
    {
     "data": {
      "text/html": [
       "<table>\n",
       "    <tr>\n",
       "        <th>TEMPERATURE_C</th>\n",
       "    </tr>\n",
       "    <tr>\n",
       "        <td>24.8</td>\n",
       "    </tr>\n",
       "    <tr>\n",
       "        <td>28.4</td>\n",
       "    </tr>\n",
       "    <tr>\n",
       "        <td>27.9</td>\n",
       "    </tr>\n",
       "    <tr>\n",
       "        <td>27.6</td>\n",
       "    </tr>\n",
       "    <tr>\n",
       "        <td>4.2</td>\n",
       "    </tr>\n",
       "    <tr>\n",
       "        <td>8.3</td>\n",
       "    </tr>\n",
       "    <tr>\n",
       "        <td>15.7</td>\n",
       "    </tr>\n",
       "    <tr>\n",
       "        <td>10.4</td>\n",
       "    </tr>\n",
       "    <tr>\n",
       "        <td>13.6</td>\n",
       "    </tr>\n",
       "    <tr>\n",
       "        <td>20.7</td>\n",
       "    </tr>\n",
       "    <tr>\n",
       "        <td>27.7</td>\n",
       "    </tr>\n",
       "    <tr>\n",
       "        <td>22.2</td>\n",
       "    </tr>\n",
       "</table>"
      ],
      "text/plain": [
       "[(24.8,),\n",
       " (28.4,),\n",
       " (27.9,),\n",
       " (27.6,),\n",
       " (4.2,),\n",
       " (8.3,),\n",
       " (15.7,),\n",
       " (10.4,),\n",
       " (13.6,),\n",
       " (20.7,),\n",
       " (27.7,),\n",
       " (22.2,)]"
      ]
     },
     "execution_count": 14,
     "metadata": {},
     "output_type": "execute_result"
    }
   ],
   "source": [
    "%sql SELECT TEMPERATURE_C FROM WEATHER;"
   ]
  },
  {
   "cell_type": "markdown",
   "metadata": {},
   "source": [
    "### b) All the cities, but without repetition."
   ]
  },
  {
   "cell_type": "code",
   "execution_count": 44,
   "metadata": {},
   "outputs": [
    {
     "name": "stdout",
     "output_type": "stream",
     "text": [
      " * sqlite://\n",
      "Done.\n"
     ]
    },
    {
     "data": {
      "text/html": [
       "<table>\n",
       "    <tr>\n",
       "        <th>CITY</th>\n",
       "    </tr>\n",
       "    <tr>\n",
       "        <td>Mumbai</td>\n",
       "    </tr>\n",
       "    <tr>\n",
       "        <td>London</td>\n",
       "    </tr>\n",
       "    <tr>\n",
       "        <td>Cairo</td>\n",
       "    </tr>\n",
       "</table>"
      ],
      "text/plain": [
       "[('Mumbai',), ('London',), ('Cairo',)]"
      ]
     },
     "execution_count": 44,
     "metadata": {},
     "output_type": "execute_result"
    }
   ],
   "source": [
    "%sql SELECT DISTINCT CITY FROM WEATHER "
   ]
  },
  {
   "cell_type": "markdown",
   "metadata": {},
   "source": [
    "### c) All the records for India"
   ]
  },
  {
   "cell_type": "code",
   "execution_count": 45,
   "metadata": {},
   "outputs": [
    {
     "name": "stdout",
     "output_type": "stream",
     "text": [
      " * sqlite://\n",
      "Done.\n"
     ]
    },
    {
     "data": {
      "text/html": [
       "<table>\n",
       "    <tr>\n",
       "        <th>CITY</th>\n",
       "        <th>COUNTRY</th>\n",
       "        <th>SEASON</th>\n",
       "        <th>TEMPERATURE_C</th>\n",
       "        <th>RAINFALL</th>\n",
       "    </tr>\n",
       "    <tr>\n",
       "        <td>Mumbai</td>\n",
       "        <td>India</td>\n",
       "        <td>Winter</td>\n",
       "        <td>24.8</td>\n",
       "        <td>5.9</td>\n",
       "    </tr>\n",
       "    <tr>\n",
       "        <td>Mumbai</td>\n",
       "        <td>India</td>\n",
       "        <td>Spring</td>\n",
       "        <td>28.4</td>\n",
       "        <td>16.2</td>\n",
       "    </tr>\n",
       "    <tr>\n",
       "        <td>Mumbai</td>\n",
       "        <td>India</td>\n",
       "        <td>Summer</td>\n",
       "        <td>27.9</td>\n",
       "        <td>1549.4</td>\n",
       "    </tr>\n",
       "    <tr>\n",
       "        <td>Mumbai</td>\n",
       "        <td>India</td>\n",
       "        <td>Fall</td>\n",
       "        <td>27.6</td>\n",
       "        <td>346.0</td>\n",
       "    </tr>\n",
       "</table>"
      ],
      "text/plain": [
       "[('Mumbai', 'India', 'Winter', 24.8, 5.9),\n",
       " ('Mumbai', 'India', 'Spring', 28.4, 16.2),\n",
       " ('Mumbai', 'India', 'Summer', 27.9, 1549.4),\n",
       " ('Mumbai', 'India', 'Fall', 27.6, 346.0)]"
      ]
     },
     "execution_count": 45,
     "metadata": {},
     "output_type": "execute_result"
    }
   ],
   "source": [
    "%sql SELECT * FROM WEATHER WHERE COUNTRY=\"India\""
   ]
  },
  {
   "cell_type": "markdown",
   "metadata": {},
   "source": [
    "### d) All the Fall records."
   ]
  },
  {
   "cell_type": "code",
   "execution_count": 18,
   "metadata": {},
   "outputs": [
    {
     "name": "stdout",
     "output_type": "stream",
     "text": [
      " * sqlite://\n",
      "Done.\n"
     ]
    },
    {
     "data": {
      "text/html": [
       "<table>\n",
       "    <tr>\n",
       "        <th>CITY</th>\n",
       "        <th>COUNTRY</th>\n",
       "        <th>SEASON</th>\n",
       "        <th>TEMPERATURE_C</th>\n",
       "        <th>RAINFALL</th>\n",
       "    </tr>\n",
       "    <tr>\n",
       "        <td>Mumbai</td>\n",
       "        <td>India</td>\n",
       "        <td>Fall</td>\n",
       "        <td>27.6</td>\n",
       "        <td>346.0</td>\n",
       "    </tr>\n",
       "    <tr>\n",
       "        <td>London</td>\n",
       "        <td>United Kingdom</td>\n",
       "        <td>Fall</td>\n",
       "        <td>10.4</td>\n",
       "        <td>218.5</td>\n",
       "    </tr>\n",
       "    <tr>\n",
       "        <td>Cairo</td>\n",
       "        <td>Egypt</td>\n",
       "        <td>Fall</td>\n",
       "        <td>22.2</td>\n",
       "        <td>4.5</td>\n",
       "    </tr>\n",
       "</table>"
      ],
      "text/plain": [
       "[('Mumbai', 'India', 'Fall', 27.6, 346.0),\n",
       " ('London', 'United Kingdom', 'Fall', 10.4, 218.5),\n",
       " ('Cairo', 'Egypt', 'Fall', 22.2, 4.5)]"
      ]
     },
     "execution_count": 18,
     "metadata": {},
     "output_type": "execute_result"
    }
   ],
   "source": [
    "%sql SELECT * FROM WEATHER WHERE SEASON=\"Fall\""
   ]
  },
  {
   "cell_type": "markdown",
   "metadata": {},
   "source": [
    "### e)The city, country, and season for which the average rainfall is between 200 and 400 millimeters."
   ]
  },
  {
   "cell_type": "code",
   "execution_count": 47,
   "metadata": {},
   "outputs": [
    {
     "name": "stdout",
     "output_type": "stream",
     "text": [
      " * sqlite://\n",
      "Done.\n"
     ]
    },
    {
     "data": {
      "text/html": [
       "<table>\n",
       "    <tr>\n",
       "        <th>CITY</th>\n",
       "        <th>COUNTRY</th>\n",
       "        <th>SEASON</th>\n",
       "    </tr>\n",
       "    <tr>\n",
       "        <td>Mumbai</td>\n",
       "        <td>India</td>\n",
       "        <td>Fall</td>\n",
       "    </tr>\n",
       "    <tr>\n",
       "        <td>London</td>\n",
       "        <td>United Kingdom</td>\n",
       "        <td>Winter</td>\n",
       "    </tr>\n",
       "    <tr>\n",
       "        <td>London</td>\n",
       "        <td>United Kingdom</td>\n",
       "        <td>Fall</td>\n",
       "    </tr>\n",
       "</table>"
      ],
      "text/plain": [
       "[('Mumbai', 'India', 'Fall'),\n",
       " ('London', 'United Kingdom', 'Winter'),\n",
       " ('London', 'United Kingdom', 'Fall')]"
      ]
     },
     "execution_count": 47,
     "metadata": {},
     "output_type": "execute_result"
    }
   ],
   "source": [
    "%sql SELECT CITY, COUNTRY ,SEASON FROM WEATHER WHERE RAINFALL BETWEEN 200 AND 400"
   ]
  },
  {
   "cell_type": "markdown",
   "metadata": {},
   "source": [
    "### f) The city and country for which the average Fall temperature is above 20 degrees, in increasing temperature order.\n"
   ]
  },
  {
   "cell_type": "code",
   "execution_count": 49,
   "metadata": {},
   "outputs": [
    {
     "name": "stdout",
     "output_type": "stream",
     "text": [
      " * sqlite://\n",
      "Done.\n"
     ]
    },
    {
     "data": {
      "text/html": [
       "<table>\n",
       "    <tr>\n",
       "        <th>CITY</th>\n",
       "        <th>COUNTRY</th>\n",
       "    </tr>\n",
       "    <tr>\n",
       "        <td>Cairo</td>\n",
       "        <td>Egypt</td>\n",
       "    </tr>\n",
       "    <tr>\n",
       "        <td>Mumbai</td>\n",
       "        <td>India</td>\n",
       "    </tr>\n",
       "</table>"
      ],
      "text/plain": [
       "[('Cairo', 'Egypt'), ('Mumbai', 'India')]"
      ]
     },
     "execution_count": 49,
     "metadata": {},
     "output_type": "execute_result"
    }
   ],
   "source": [
    "%sql SELECT CITY, COUNTRY FROM WEATHER WHERE SEASON=\"Fall\" AND TEMPERATURE_C>20 ORDER BY TEMPERATURE_C"
   ]
  },
  {
   "cell_type": "markdown",
   "metadata": {},
   "source": [
    "### g) The total annual rainfall for Cairo."
   ]
  },
  {
   "cell_type": "code",
   "execution_count": 28,
   "metadata": {},
   "outputs": [
    {
     "name": "stdout",
     "output_type": "stream",
     "text": [
      " * sqlite://\n",
      "Done.\n"
     ]
    },
    {
     "data": {
      "text/html": [
       "<table>\n",
       "    <tr>\n",
       "        <th>SUM(RAINFALL)</th>\n",
       "    </tr>\n",
       "    <tr>\n",
       "        <td>27.6</td>\n",
       "    </tr>\n",
       "</table>"
      ],
      "text/plain": [
       "[(27.6,)]"
      ]
     },
     "execution_count": 28,
     "metadata": {},
     "output_type": "execute_result"
    }
   ],
   "source": [
    "%sql SELECT SUM(RAINFALL) FROM WEATHER WHERE CITY='Cairo'"
   ]
  },
  {
   "cell_type": "markdown",
   "metadata": {},
   "source": [
    "### h) The total rainfall for each season."
   ]
  },
  {
   "cell_type": "code",
   "execution_count": 37,
   "metadata": {},
   "outputs": [
    {
     "name": "stdout",
     "output_type": "stream",
     "text": [
      " * sqlite://\n",
      "Done.\n"
     ]
    },
    {
     "data": {
      "text/html": [
       "<table>\n",
       "    <tr>\n",
       "        <th>SUM(RAINFALL)</th>\n",
       "    </tr>\n",
       "    <tr>\n",
       "        <td>569.0</td>\n",
       "    </tr>\n",
       "    <tr>\n",
       "        <td>192.29999999999998</td>\n",
       "    </tr>\n",
       "    <tr>\n",
       "        <td>1706.5</td>\n",
       "    </tr>\n",
       "    <tr>\n",
       "        <td>230.1</td>\n",
       "    </tr>\n",
       "</table>"
      ],
      "text/plain": [
       "[(569.0,), (192.29999999999998,), (1706.5,), (230.1,)]"
      ]
     },
     "execution_count": 37,
     "metadata": {},
     "output_type": "execute_result"
    }
   ],
   "source": [
    "%sql SELECT SUM(RAINFALL) FROM WEATHER GROUP BY SEASON"
   ]
  },
  {
   "cell_type": "markdown",
   "metadata": {},
   "source": [
    " ### 10.Suppose list words is defined as follows:\n",
    "words = ['The', 'quick', 'brown', 'fox', 'jumps', 'over',\n",
    "'the', 'lazy', 'dog']  \n",
    "Write list comprehension expressions that use list words and generate the following lists:  \n",
    "#### a) ['THE', 'QUICK', 'BROWN', 'FOX', 'JUMPS', 'OVER', 'THE','LAZY', 'DOG']\n"
   ]
  },
  {
   "cell_type": "code",
   "execution_count": 52,
   "metadata": {},
   "outputs": [
    {
     "name": "stdout",
     "output_type": "stream",
     "text": [
      "['THE', 'QUICK', 'BROWN', 'FOX', 'JUMPS', 'OVER', 'THE', 'LAZY', 'DOG']\n"
     ]
    }
   ],
   "source": [
    "words=['The', 'quick', 'brown', 'fox', 'jumps', 'over', 'the', 'lazy', 'dog']\n",
    "\n",
    "a=[w.upper() for w in words]\n",
    "print(a)"
   ]
  },
  {
   "cell_type": "markdown",
   "metadata": {},
   "source": [
    "#### b) ['the', 'quick', 'brown', 'fox', 'jumps', 'over', 'the','lazy', 'dog']\n"
   ]
  },
  {
   "cell_type": "code",
   "execution_count": 61,
   "metadata": {},
   "outputs": [
    {
     "name": "stdout",
     "output_type": "stream",
     "text": [
      "['the', 'quick', 'brown', 'fox', 'jumps', 'over', 'the', 'lazy', 'dog']\n"
     ]
    }
   ],
   "source": [
    "b=[w.lower() for w in words]\n",
    "print(b)"
   ]
  },
  {
   "cell_type": "markdown",
   "metadata": {},
   "source": [
    "#### c) [3, 5, 5, 3, 5, 4, 3, 4, 3] (the list of lengths of words in list words)."
   ]
  },
  {
   "cell_type": "code",
   "execution_count": 57,
   "metadata": {},
   "outputs": [
    {
     "name": "stdout",
     "output_type": "stream",
     "text": [
      "[3, 5, 5, 3, 5, 4, 3, 4, 3]\n"
     ]
    }
   ],
   "source": [
    "c=[len(w) for w in words]\n",
    "print(c)"
   ]
  },
  {
   "cell_type": "markdown",
   "metadata": {},
   "source": [
    "#### d) [['THE', 'the', 3], ['QUICK', 'quick', 5], ['BROWN','brown', 5], ['FOX', 'fox', 3], ['JUMPS', 'jumps', 5],['OVER', 'over', 4], ['THE', 'the', 3], ['LAZY', 'lazy',4], ['DOG', 'dog', 3]]   \n",
    "(the list containing a list for every word of list words, where each list contains the word in uppercase and lowercase and the length of the word.)"
   ]
  },
  {
   "cell_type": "code",
   "execution_count": 59,
   "metadata": {},
   "outputs": [
    {
     "name": "stdout",
     "output_type": "stream",
     "text": [
      "[['THE', 'the', 3], ['QUICK', 'quick', 5], ['BROWN', 'brown', 5], ['FOX', 'fox', 3], ['JUMPS', 'jumps', 5], ['OVER', 'over', 4], ['THE', 'the', 3], ['LAZY', 'lazy', 4], ['DOG', 'dog', 3]]\n"
     ]
    }
   ],
   "source": [
    "d=[[w.upper(),w.lower(),len(w)] for w in words]\n",
    "print(d)"
   ]
  },
  {
   "cell_type": "markdown",
   "metadata": {},
   "source": [
    "#### e) ['The', 'quick', 'brown', 'fox', 'jumps', 'over', 'the','lazy', 'dog'] (the list of words in list words containing 4 or more characters.)"
   ]
  },
  {
   "cell_type": "code",
   "execution_count": 65,
   "metadata": {},
   "outputs": [
    {
     "name": "stdout",
     "output_type": "stream",
     "text": [
      "['quick', 'brown', 'jumps', 'over', 'lazy']\n"
     ]
    }
   ],
   "source": [
    "c=[w for w in words if len(w)>3]\n",
    "print(c)"
   ]
  },
  {
   "cell_type": "code",
   "execution_count": null,
   "metadata": {},
   "outputs": [],
   "source": []
  }
 ],
 "metadata": {
  "kernelspec": {
   "display_name": "Python 3",
   "language": "python",
   "name": "python3"
  },
  "language_info": {
   "codemirror_mode": {
    "name": "ipython",
    "version": 3
   },
   "file_extension": ".py",
   "mimetype": "text/x-python",
   "name": "python",
   "nbconvert_exporter": "python",
   "pygments_lexer": "ipython3",
   "version": "3.8.3"
  }
 },
 "nbformat": 4,
 "nbformat_minor": 4
}
